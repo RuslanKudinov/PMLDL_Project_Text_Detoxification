{
  "nbformat": 4,
  "nbformat_minor": 0,
  "metadata": {
    "colab": {
      "provenance": []
    },
    "kernelspec": {
      "name": "python3",
      "display_name": "Python 3"
    },
    "language_info": {
      "name": "python"
    }
  },
  "cells": [
    {
      "cell_type": "markdown",
      "source": [
        "# Initial data exploration:"
      ],
      "metadata": {
        "id": "XALqe6TjyWF-"
      }
    },
    {
      "cell_type": "markdown",
      "source": [
        "# Basic ideas behind data preprocessing:"
      ],
      "metadata": {
        "id": "nKIDekHtydut"
      }
    }
  ]
}